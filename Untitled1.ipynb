{
  "nbformat": 4,
  "nbformat_minor": 0,
  "metadata": {
    "colab": {
      "provenance": [],
      "authorship_tag": "ABX9TyOV4lDtaEHIVs/gsoGHM7v0",
      "include_colab_link": true
    },
    "kernelspec": {
      "name": "python3",
      "display_name": "Python 3"
    },
    "language_info": {
      "name": "python"
    }
  },
  "cells": [
    {
      "cell_type": "markdown",
      "metadata": {
        "id": "view-in-github",
        "colab_type": "text"
      },
      "source": [
        "<a href=\"https://colab.research.google.com/github/dsj12960/assign_1/blob/main/Untitled1.ipynb\" target=\"_parent\"><img src=\"https://colab.research.google.com/assets/colab-badge.svg\" alt=\"Open In Colab\"/></a>"
      ]
    },
    {
      "cell_type": "code",
      "execution_count": 3,
      "metadata": {
        "colab": {
          "base_uri": "https://localhost:8080/"
        },
        "id": "yUcgf4YGdJuo",
        "outputId": "89b615d9-c20d-4e9d-dfc5-dd54543dc517"
      },
      "outputs": [
        {
          "output_type": "stream",
          "name": "stdout",
          "text": [
            "enter a stringtemp\n",
            "The original intstring is : temp\n",
            "Enter the first character to delete: t\n",
            "Enter the second charcter to delete: e\n",
            "string after deleting two characters and reversing:  pm\n"
          ]
        }
      ],
      "source": [
        "def reverse(string):\n",
        "    str = \"\"\n",
        "    for i in string:\n",
        "        str = i + str\n",
        "    return str\n",
        "def deletestrings():\n",
        "    first_char=str(input(\"Enter the first character to delete: \")) #giving input for first char\n",
        "    h=string.replace(first_char, '') #removing first entered character \n",
        "    second_char=str(input(\"Enter the second charcter to delete: \")) #giving input for second char\n",
        "    j=h.replace(second_char, '') #removing second character \n",
        "    return print(\"string after deleting two characters and reversing: \",reverse(j)) # calling reverse function\n",
        "\n",
        "string = str(input(\"enter a string\"))\n",
        "print(\"The original intstring is : \", end=\"\")\n",
        "print(string)\n",
        "deletestrings()"
      ]
    },
    {
      "cell_type": "code",
      "source": [
        "a=int(input(\"enter first number: \"))\n",
        "b=int(input(\"enter second number: \"))\n",
        "print(a+b)\n",
        "print(a-b)\n",
        "print(a*b)\n",
        "print(a/b)"
      ],
      "metadata": {
        "colab": {
          "base_uri": "https://localhost:8080/"
        },
        "id": "9VCvKLOoh3t2",
        "outputId": "ff8c9de5-f3f2-41a6-d43c-294923dd8849"
      },
      "execution_count": 11,
      "outputs": [
        {
          "output_type": "stream",
          "name": "stdout",
          "text": [
            "enter first number: 10\n",
            "enter second number: 20\n",
            "30\n",
            "-10\n",
            "200\n",
            "0.5\n"
          ]
        }
      ]
    },
    {
      "cell_type": "code",
      "source": [
        "sentence=str(input(\"Enter the sentence: \"))\n",
        "old=\"python\"\n",
        "new=\"pythons\"\n",
        "print(\"sentence is :\",sentence)\n",
        "def replace(sentence,old,new):\n",
        "    return sentence.replace(old,new)\n",
        "print(replace(sentence,old,new))"
      ],
      "metadata": {
        "colab": {
          "base_uri": "https://localhost:8080/"
        },
        "id": "b_Kq_7zsiecF",
        "outputId": "45a4225b-6c56-4baf-9cde-19ff99dbac19"
      },
      "execution_count": 10,
      "outputs": [
        {
          "output_type": "stream",
          "name": "stdout",
          "text": [
            "Enter the sentence: python is no better than python\n",
            "sentence is : python is no better than python\n",
            "pythons is no better than pythons\n"
          ]
        }
      ]
    },
    {
      "cell_type": "code",
      "source": [
        "score=int(input(\"enter score: \"))\n",
        "if score>=90 and score<=100:\n",
        "    print(\"Grade A\")\n",
        "elif score>=80 and score<=89:\n",
        "    print(\"Grade B\")\n",
        "elif score>=70 and score<=79:\n",
        "    print(\"Grade C\")\n",
        "elif score>=60 and score<=69:\n",
        "    print(\"Grade D\")\n",
        "else:\n",
        "    print(\"Fail\")"
      ],
      "metadata": {
        "colab": {
          "base_uri": "https://localhost:8080/"
        },
        "id": "7HXm88mEkNac",
        "outputId": "a904b7dc-d725-460b-f853-f8546c71d3df"
      },
      "execution_count": 12,
      "outputs": [
        {
          "output_type": "stream",
          "name": "stdout",
          "text": [
            "enter score: 74\n",
            "Grade C\n"
          ]
        }
      ]
    }
  ]
}